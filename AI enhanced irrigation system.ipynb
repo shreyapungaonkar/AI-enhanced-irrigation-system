{
 "cells": [
  {
   "cell_type": "code",
   "execution_count": 3,
   "metadata": {
    "id": "0S0ZOus6rPHe"
   },
   "outputs": [],
   "source": [
    "import pandas as pd\n",
    "import numpy as np\n",
    "import matplotlib.pyplot as plt\n"
   ]
  },
  {
   "cell_type": "code",
   "execution_count": 4,
   "metadata": {
    "id": "EUx7KMr8rclA"
   },
   "outputs": [],
   "source": [
    "df = pd.read_csv(\"Irrigation Scheduling.csv\")"
   ]
  },
  {
   "cell_type": "code",
   "execution_count": 5,
   "metadata": {
    "colab": {
     "base_uri": "https://localhost:8080/",
     "height": 424
    },
    "id": "WrlUiPWIrszA",
    "outputId": "ef61815e-b86b-48b0-c645-7d688f2cbd6d"
   },
   "outputs": [
    {
     "data": {
      "text/html": [
       "<div>\n",
       "<style scoped>\n",
       "    .dataframe tbody tr th:only-of-type {\n",
       "        vertical-align: middle;\n",
       "    }\n",
       "\n",
       "    .dataframe tbody tr th {\n",
       "        vertical-align: top;\n",
       "    }\n",
       "\n",
       "    .dataframe thead th {\n",
       "        text-align: right;\n",
       "    }\n",
       "</style>\n",
       "<table border=\"1\" class=\"dataframe\">\n",
       "  <thead>\n",
       "    <tr style=\"text-align: right;\">\n",
       "      <th></th>\n",
       "      <th>id</th>\n",
       "      <th>temperature</th>\n",
       "      <th>pressure</th>\n",
       "      <th>altitude</th>\n",
       "      <th>soilmiosture</th>\n",
       "      <th>note</th>\n",
       "      <th>status</th>\n",
       "      <th>class</th>\n",
       "      <th>date</th>\n",
       "      <th>time</th>\n",
       "    </tr>\n",
       "  </thead>\n",
       "  <tbody>\n",
       "    <tr>\n",
       "      <th>0</th>\n",
       "      <td>1</td>\n",
       "      <td>29.10</td>\n",
       "      <td>9984.53</td>\n",
       "      <td>-12.21</td>\n",
       "      <td>377</td>\n",
       "      <td>0</td>\n",
       "      <td>0</td>\n",
       "      <td>Very Dry</td>\n",
       "      <td>08-10-2022</td>\n",
       "      <td>22:06:24</td>\n",
       "    </tr>\n",
       "    <tr>\n",
       "      <th>1</th>\n",
       "      <td>2</td>\n",
       "      <td>29.08</td>\n",
       "      <td>9984.36</td>\n",
       "      <td>-12.22</td>\n",
       "      <td>379</td>\n",
       "      <td>0</td>\n",
       "      <td>0</td>\n",
       "      <td>Very Dry</td>\n",
       "      <td>08-10-2022</td>\n",
       "      <td>22:06:24</td>\n",
       "    </tr>\n",
       "    <tr>\n",
       "      <th>2</th>\n",
       "      <td>3</td>\n",
       "      <td>29.06</td>\n",
       "      <td>9984.56</td>\n",
       "      <td>-12.20</td>\n",
       "      <td>376</td>\n",
       "      <td>0</td>\n",
       "      <td>0</td>\n",
       "      <td>Very Dry</td>\n",
       "      <td>08-10-2022</td>\n",
       "      <td>22:06:24</td>\n",
       "    </tr>\n",
       "    <tr>\n",
       "      <th>3</th>\n",
       "      <td>4</td>\n",
       "      <td>29.05</td>\n",
       "      <td>9984.39</td>\n",
       "      <td>-12.22</td>\n",
       "      <td>377</td>\n",
       "      <td>0</td>\n",
       "      <td>0</td>\n",
       "      <td>Very Dry</td>\n",
       "      <td>08-10-2022</td>\n",
       "      <td>22:06:24</td>\n",
       "    </tr>\n",
       "    <tr>\n",
       "      <th>4</th>\n",
       "      <td>5</td>\n",
       "      <td>29.03</td>\n",
       "      <td>9984.42</td>\n",
       "      <td>-12.21</td>\n",
       "      <td>379</td>\n",
       "      <td>0</td>\n",
       "      <td>0</td>\n",
       "      <td>Very Dry</td>\n",
       "      <td>08-10-2022</td>\n",
       "      <td>22:06:24</td>\n",
       "    </tr>\n",
       "    <tr>\n",
       "      <th>...</th>\n",
       "      <td>...</td>\n",
       "      <td>...</td>\n",
       "      <td>...</td>\n",
       "      <td>...</td>\n",
       "      <td>...</td>\n",
       "      <td>...</td>\n",
       "      <td>...</td>\n",
       "      <td>...</td>\n",
       "      <td>...</td>\n",
       "      <td>...</td>\n",
       "    </tr>\n",
       "    <tr>\n",
       "      <th>4683</th>\n",
       "      <td>4684</td>\n",
       "      <td>29.34</td>\n",
       "      <td>9921.75</td>\n",
       "      <td>-17.49</td>\n",
       "      <td>327</td>\n",
       "      <td>1</td>\n",
       "      <td>0</td>\n",
       "      <td>Dry</td>\n",
       "      <td>08-10-2022</td>\n",
       "      <td>22:06:24</td>\n",
       "    </tr>\n",
       "    <tr>\n",
       "      <th>4684</th>\n",
       "      <td>4685</td>\n",
       "      <td>29.31</td>\n",
       "      <td>9921.45</td>\n",
       "      <td>-17.52</td>\n",
       "      <td>328</td>\n",
       "      <td>1</td>\n",
       "      <td>0</td>\n",
       "      <td>Dry</td>\n",
       "      <td>08-10-2022</td>\n",
       "      <td>22:06:24</td>\n",
       "    </tr>\n",
       "    <tr>\n",
       "      <th>4685</th>\n",
       "      <td>4686</td>\n",
       "      <td>29.29</td>\n",
       "      <td>9921.48</td>\n",
       "      <td>-17.51</td>\n",
       "      <td>328</td>\n",
       "      <td>1</td>\n",
       "      <td>0</td>\n",
       "      <td>Dry</td>\n",
       "      <td>08-10-2022</td>\n",
       "      <td>22:06:24</td>\n",
       "    </tr>\n",
       "    <tr>\n",
       "      <th>4686</th>\n",
       "      <td>4687</td>\n",
       "      <td>29.26</td>\n",
       "      <td>9921.51</td>\n",
       "      <td>-17.51</td>\n",
       "      <td>327</td>\n",
       "      <td>1</td>\n",
       "      <td>0</td>\n",
       "      <td>Dry</td>\n",
       "      <td>08-10-2022</td>\n",
       "      <td>22:06:24</td>\n",
       "    </tr>\n",
       "    <tr>\n",
       "      <th>4687</th>\n",
       "      <td>4688</td>\n",
       "      <td>29.28</td>\n",
       "      <td>9922.20</td>\n",
       "      <td>-17.45</td>\n",
       "      <td>323</td>\n",
       "      <td>1</td>\n",
       "      <td>0</td>\n",
       "      <td>Dry</td>\n",
       "      <td>08-10-2022</td>\n",
       "      <td>22:06:24</td>\n",
       "    </tr>\n",
       "  </tbody>\n",
       "</table>\n",
       "<p>4688 rows × 10 columns</p>\n",
       "</div>"
      ],
      "text/plain": [
       "        id  temperature  pressure  altitude  soilmiosture  note  status  \\\n",
       "0        1        29.10   9984.53    -12.21           377     0       0   \n",
       "1        2        29.08   9984.36    -12.22           379     0       0   \n",
       "2        3        29.06   9984.56    -12.20           376     0       0   \n",
       "3        4        29.05   9984.39    -12.22           377     0       0   \n",
       "4        5        29.03   9984.42    -12.21           379     0       0   \n",
       "...    ...          ...       ...       ...           ...   ...     ...   \n",
       "4683  4684        29.34   9921.75    -17.49           327     1       0   \n",
       "4684  4685        29.31   9921.45    -17.52           328     1       0   \n",
       "4685  4686        29.29   9921.48    -17.51           328     1       0   \n",
       "4686  4687        29.26   9921.51    -17.51           327     1       0   \n",
       "4687  4688        29.28   9922.20    -17.45           323     1       0   \n",
       "\n",
       "         class        date      time  \n",
       "0     Very Dry  08-10-2022  22:06:24  \n",
       "1     Very Dry  08-10-2022  22:06:24  \n",
       "2     Very Dry  08-10-2022  22:06:24  \n",
       "3     Very Dry  08-10-2022  22:06:24  \n",
       "4     Very Dry  08-10-2022  22:06:24  \n",
       "...        ...         ...       ...  \n",
       "4683       Dry  08-10-2022  22:06:24  \n",
       "4684       Dry  08-10-2022  22:06:24  \n",
       "4685       Dry  08-10-2022  22:06:24  \n",
       "4686       Dry  08-10-2022  22:06:24  \n",
       "4687       Dry  08-10-2022  22:06:24  \n",
       "\n",
       "[4688 rows x 10 columns]"
      ]
     },
     "execution_count": 5,
     "metadata": {},
     "output_type": "execute_result"
    }
   ],
   "source": [
    "df"
   ]
  },
  {
   "cell_type": "code",
   "execution_count": 6,
   "metadata": {
    "colab": {
     "base_uri": "https://localhost:8080/"
    },
    "id": "ZHM0NprlrtjH",
    "outputId": "076560be-3dc2-42ff-98d0-6a0b2ec39111"
   },
   "outputs": [
    {
     "data": {
      "text/plain": [
       "0       Very Dry\n",
       "1       Very Dry\n",
       "2       Very Dry\n",
       "3       Very Dry\n",
       "4       Very Dry\n",
       "          ...   \n",
       "4683         Dry\n",
       "4684         Dry\n",
       "4685         Dry\n",
       "4686         Dry\n",
       "4687         Dry\n",
       "Name: class, Length: 4688, dtype: object"
      ]
     },
     "execution_count": 6,
     "metadata": {},
     "output_type": "execute_result"
    }
   ],
   "source": [
    "#to display the class\n",
    "df['class']"
   ]
  },
  {
   "cell_type": "code",
   "execution_count": 7,
   "metadata": {
    "colab": {
     "base_uri": "https://localhost:8080/"
    },
    "id": "O7HifStLr0Fn",
    "outputId": "3b057c55-7a59-4b2f-de32-1d1d25bb8899"
   },
   "outputs": [
    {
     "data": {
      "text/plain": [
       "(4688, 10)"
      ]
     },
     "execution_count": 7,
     "metadata": {},
     "output_type": "execute_result"
    }
   ],
   "source": [
    "df.shape"
   ]
  },
  {
   "cell_type": "code",
   "execution_count": 8,
   "metadata": {
    "colab": {
     "base_uri": "https://localhost:8080/"
    },
    "id": "Lr-ImVspr6_Z",
    "outputId": "7fe3995d-6f53-46a7-946c-47c6157edb0e"
   },
   "outputs": [
    {
     "data": {
      "text/plain": [
       "<bound method DataFrame.info of         id  temperature  pressure  altitude  soilmiosture  note  status  \\\n",
       "0        1        29.10   9984.53    -12.21           377     0       0   \n",
       "1        2        29.08   9984.36    -12.22           379     0       0   \n",
       "2        3        29.06   9984.56    -12.20           376     0       0   \n",
       "3        4        29.05   9984.39    -12.22           377     0       0   \n",
       "4        5        29.03   9984.42    -12.21           379     0       0   \n",
       "...    ...          ...       ...       ...           ...   ...     ...   \n",
       "4683  4684        29.34   9921.75    -17.49           327     1       0   \n",
       "4684  4685        29.31   9921.45    -17.52           328     1       0   \n",
       "4685  4686        29.29   9921.48    -17.51           328     1       0   \n",
       "4686  4687        29.26   9921.51    -17.51           327     1       0   \n",
       "4687  4688        29.28   9922.20    -17.45           323     1       0   \n",
       "\n",
       "         class        date      time  \n",
       "0     Very Dry  08-10-2022  22:06:24  \n",
       "1     Very Dry  08-10-2022  22:06:24  \n",
       "2     Very Dry  08-10-2022  22:06:24  \n",
       "3     Very Dry  08-10-2022  22:06:24  \n",
       "4     Very Dry  08-10-2022  22:06:24  \n",
       "...        ...         ...       ...  \n",
       "4683       Dry  08-10-2022  22:06:24  \n",
       "4684       Dry  08-10-2022  22:06:24  \n",
       "4685       Dry  08-10-2022  22:06:24  \n",
       "4686       Dry  08-10-2022  22:06:24  \n",
       "4687       Dry  08-10-2022  22:06:24  \n",
       "\n",
       "[4688 rows x 10 columns]>"
      ]
     },
     "execution_count": 8,
     "metadata": {},
     "output_type": "execute_result"
    }
   ],
   "source": [
    "df.info"
   ]
  },
  {
   "cell_type": "code",
   "execution_count": 9,
   "metadata": {
    "colab": {
     "base_uri": "https://localhost:8080/",
     "height": 424
    },
    "id": "VbtoG4rEsAL2",
    "outputId": "d189d0da-dae9-493a-d39e-1fd31c4b5d26"
   },
   "outputs": [
    {
     "data": {
      "text/html": [
       "<div>\n",
       "<style scoped>\n",
       "    .dataframe tbody tr th:only-of-type {\n",
       "        vertical-align: middle;\n",
       "    }\n",
       "\n",
       "    .dataframe tbody tr th {\n",
       "        vertical-align: top;\n",
       "    }\n",
       "\n",
       "    .dataframe thead th {\n",
       "        text-align: right;\n",
       "    }\n",
       "</style>\n",
       "<table border=\"1\" class=\"dataframe\">\n",
       "  <thead>\n",
       "    <tr style=\"text-align: right;\">\n",
       "      <th></th>\n",
       "      <th>id</th>\n",
       "      <th>temperature</th>\n",
       "      <th>pressure</th>\n",
       "      <th>altitude</th>\n",
       "      <th>soilmiosture</th>\n",
       "      <th>note</th>\n",
       "      <th>status</th>\n",
       "      <th>class</th>\n",
       "      <th>date</th>\n",
       "      <th>time</th>\n",
       "    </tr>\n",
       "  </thead>\n",
       "  <tbody>\n",
       "    <tr>\n",
       "      <th>0</th>\n",
       "      <td>False</td>\n",
       "      <td>False</td>\n",
       "      <td>False</td>\n",
       "      <td>False</td>\n",
       "      <td>False</td>\n",
       "      <td>False</td>\n",
       "      <td>False</td>\n",
       "      <td>False</td>\n",
       "      <td>False</td>\n",
       "      <td>False</td>\n",
       "    </tr>\n",
       "    <tr>\n",
       "      <th>1</th>\n",
       "      <td>False</td>\n",
       "      <td>False</td>\n",
       "      <td>False</td>\n",
       "      <td>False</td>\n",
       "      <td>False</td>\n",
       "      <td>False</td>\n",
       "      <td>False</td>\n",
       "      <td>False</td>\n",
       "      <td>False</td>\n",
       "      <td>False</td>\n",
       "    </tr>\n",
       "    <tr>\n",
       "      <th>2</th>\n",
       "      <td>False</td>\n",
       "      <td>False</td>\n",
       "      <td>False</td>\n",
       "      <td>False</td>\n",
       "      <td>False</td>\n",
       "      <td>False</td>\n",
       "      <td>False</td>\n",
       "      <td>False</td>\n",
       "      <td>False</td>\n",
       "      <td>False</td>\n",
       "    </tr>\n",
       "    <tr>\n",
       "      <th>3</th>\n",
       "      <td>False</td>\n",
       "      <td>False</td>\n",
       "      <td>False</td>\n",
       "      <td>False</td>\n",
       "      <td>False</td>\n",
       "      <td>False</td>\n",
       "      <td>False</td>\n",
       "      <td>False</td>\n",
       "      <td>False</td>\n",
       "      <td>False</td>\n",
       "    </tr>\n",
       "    <tr>\n",
       "      <th>4</th>\n",
       "      <td>False</td>\n",
       "      <td>False</td>\n",
       "      <td>False</td>\n",
       "      <td>False</td>\n",
       "      <td>False</td>\n",
       "      <td>False</td>\n",
       "      <td>False</td>\n",
       "      <td>False</td>\n",
       "      <td>False</td>\n",
       "      <td>False</td>\n",
       "    </tr>\n",
       "    <tr>\n",
       "      <th>...</th>\n",
       "      <td>...</td>\n",
       "      <td>...</td>\n",
       "      <td>...</td>\n",
       "      <td>...</td>\n",
       "      <td>...</td>\n",
       "      <td>...</td>\n",
       "      <td>...</td>\n",
       "      <td>...</td>\n",
       "      <td>...</td>\n",
       "      <td>...</td>\n",
       "    </tr>\n",
       "    <tr>\n",
       "      <th>4683</th>\n",
       "      <td>False</td>\n",
       "      <td>False</td>\n",
       "      <td>False</td>\n",
       "      <td>False</td>\n",
       "      <td>False</td>\n",
       "      <td>False</td>\n",
       "      <td>False</td>\n",
       "      <td>False</td>\n",
       "      <td>False</td>\n",
       "      <td>False</td>\n",
       "    </tr>\n",
       "    <tr>\n",
       "      <th>4684</th>\n",
       "      <td>False</td>\n",
       "      <td>False</td>\n",
       "      <td>False</td>\n",
       "      <td>False</td>\n",
       "      <td>False</td>\n",
       "      <td>False</td>\n",
       "      <td>False</td>\n",
       "      <td>False</td>\n",
       "      <td>False</td>\n",
       "      <td>False</td>\n",
       "    </tr>\n",
       "    <tr>\n",
       "      <th>4685</th>\n",
       "      <td>False</td>\n",
       "      <td>False</td>\n",
       "      <td>False</td>\n",
       "      <td>False</td>\n",
       "      <td>False</td>\n",
       "      <td>False</td>\n",
       "      <td>False</td>\n",
       "      <td>False</td>\n",
       "      <td>False</td>\n",
       "      <td>False</td>\n",
       "    </tr>\n",
       "    <tr>\n",
       "      <th>4686</th>\n",
       "      <td>False</td>\n",
       "      <td>False</td>\n",
       "      <td>False</td>\n",
       "      <td>False</td>\n",
       "      <td>False</td>\n",
       "      <td>False</td>\n",
       "      <td>False</td>\n",
       "      <td>False</td>\n",
       "      <td>False</td>\n",
       "      <td>False</td>\n",
       "    </tr>\n",
       "    <tr>\n",
       "      <th>4687</th>\n",
       "      <td>False</td>\n",
       "      <td>False</td>\n",
       "      <td>False</td>\n",
       "      <td>False</td>\n",
       "      <td>False</td>\n",
       "      <td>False</td>\n",
       "      <td>False</td>\n",
       "      <td>False</td>\n",
       "      <td>False</td>\n",
       "      <td>False</td>\n",
       "    </tr>\n",
       "  </tbody>\n",
       "</table>\n",
       "<p>4688 rows × 10 columns</p>\n",
       "</div>"
      ],
      "text/plain": [
       "         id  temperature  pressure  altitude  soilmiosture   note  status  \\\n",
       "0     False        False     False     False         False  False   False   \n",
       "1     False        False     False     False         False  False   False   \n",
       "2     False        False     False     False         False  False   False   \n",
       "3     False        False     False     False         False  False   False   \n",
       "4     False        False     False     False         False  False   False   \n",
       "...     ...          ...       ...       ...           ...    ...     ...   \n",
       "4683  False        False     False     False         False  False   False   \n",
       "4684  False        False     False     False         False  False   False   \n",
       "4685  False        False     False     False         False  False   False   \n",
       "4686  False        False     False     False         False  False   False   \n",
       "4687  False        False     False     False         False  False   False   \n",
       "\n",
       "      class   date   time  \n",
       "0     False  False  False  \n",
       "1     False  False  False  \n",
       "2     False  False  False  \n",
       "3     False  False  False  \n",
       "4     False  False  False  \n",
       "...     ...    ...    ...  \n",
       "4683  False  False  False  \n",
       "4684  False  False  False  \n",
       "4685  False  False  False  \n",
       "4686  False  False  False  \n",
       "4687  False  False  False  \n",
       "\n",
       "[4688 rows x 10 columns]"
      ]
     },
     "execution_count": 9,
     "metadata": {},
     "output_type": "execute_result"
    }
   ],
   "source": [
    "df.isna()"
   ]
  },
  {
   "cell_type": "code",
   "execution_count": 10,
   "metadata": {
    "colab": {
     "base_uri": "https://localhost:8080/"
    },
    "id": "5iwRHxj1sCMP",
    "outputId": "a88e556d-ff7d-446c-b512-5e63c228f374"
   },
   "outputs": [
    {
     "data": {
      "text/plain": [
       "id              0\n",
       "temperature     0\n",
       "pressure        0\n",
       "altitude        6\n",
       "soilmiosture    0\n",
       "note            0\n",
       "status          0\n",
       "class           0\n",
       "date            0\n",
       "time            0\n",
       "dtype: int64"
      ]
     },
     "execution_count": 10,
     "metadata": {},
     "output_type": "execute_result"
    }
   ],
   "source": [
    "df.isna().sum()"
   ]
  },
  {
   "cell_type": "code",
   "execution_count": 11,
   "metadata": {
    "id": "1-HQIYHwsE7P"
   },
   "outputs": [],
   "source": [
    "#Drop unnecessary column\n",
    "df.drop(\"id\",axis=1,inplace=True)"
   ]
  },
  {
   "cell_type": "code",
   "execution_count": 12,
   "metadata": {
    "id": "wYg1DfM4sOWd"
   },
   "outputs": [],
   "source": [
    "#Filling the empty values(NaN,NAN,na) of column Altitude with average of all values of same column\n",
    "df['altitude'].fillna(int(df['altitude'].mean()),inplace=True)"
   ]
  },
  {
   "cell_type": "code",
   "execution_count": 13,
   "metadata": {
    "colab": {
     "base_uri": "https://localhost:8080/",
     "height": 424
    },
    "id": "BjKgJYrJsUJW",
    "outputId": "bbebf005-9845-4241-b428-6aa1ac877ea0"
   },
   "outputs": [
    {
     "data": {
      "text/html": [
       "<div>\n",
       "<style scoped>\n",
       "    .dataframe tbody tr th:only-of-type {\n",
       "        vertical-align: middle;\n",
       "    }\n",
       "\n",
       "    .dataframe tbody tr th {\n",
       "        vertical-align: top;\n",
       "    }\n",
       "\n",
       "    .dataframe thead th {\n",
       "        text-align: right;\n",
       "    }\n",
       "</style>\n",
       "<table border=\"1\" class=\"dataframe\">\n",
       "  <thead>\n",
       "    <tr style=\"text-align: right;\">\n",
       "      <th></th>\n",
       "      <th>temperature</th>\n",
       "      <th>pressure</th>\n",
       "      <th>altitude</th>\n",
       "      <th>soilmiosture</th>\n",
       "      <th>note</th>\n",
       "      <th>status</th>\n",
       "      <th>class</th>\n",
       "      <th>date</th>\n",
       "      <th>time</th>\n",
       "    </tr>\n",
       "  </thead>\n",
       "  <tbody>\n",
       "    <tr>\n",
       "      <th>0</th>\n",
       "      <td>29.10</td>\n",
       "      <td>9984.53</td>\n",
       "      <td>-12.21</td>\n",
       "      <td>377</td>\n",
       "      <td>0</td>\n",
       "      <td>0</td>\n",
       "      <td>Very Dry</td>\n",
       "      <td>08-10-2022</td>\n",
       "      <td>22:06:24</td>\n",
       "    </tr>\n",
       "    <tr>\n",
       "      <th>1</th>\n",
       "      <td>29.08</td>\n",
       "      <td>9984.36</td>\n",
       "      <td>-12.22</td>\n",
       "      <td>379</td>\n",
       "      <td>0</td>\n",
       "      <td>0</td>\n",
       "      <td>Very Dry</td>\n",
       "      <td>08-10-2022</td>\n",
       "      <td>22:06:24</td>\n",
       "    </tr>\n",
       "    <tr>\n",
       "      <th>2</th>\n",
       "      <td>29.06</td>\n",
       "      <td>9984.56</td>\n",
       "      <td>-12.20</td>\n",
       "      <td>376</td>\n",
       "      <td>0</td>\n",
       "      <td>0</td>\n",
       "      <td>Very Dry</td>\n",
       "      <td>08-10-2022</td>\n",
       "      <td>22:06:24</td>\n",
       "    </tr>\n",
       "    <tr>\n",
       "      <th>3</th>\n",
       "      <td>29.05</td>\n",
       "      <td>9984.39</td>\n",
       "      <td>-12.22</td>\n",
       "      <td>377</td>\n",
       "      <td>0</td>\n",
       "      <td>0</td>\n",
       "      <td>Very Dry</td>\n",
       "      <td>08-10-2022</td>\n",
       "      <td>22:06:24</td>\n",
       "    </tr>\n",
       "    <tr>\n",
       "      <th>4</th>\n",
       "      <td>29.03</td>\n",
       "      <td>9984.42</td>\n",
       "      <td>-12.21</td>\n",
       "      <td>379</td>\n",
       "      <td>0</td>\n",
       "      <td>0</td>\n",
       "      <td>Very Dry</td>\n",
       "      <td>08-10-2022</td>\n",
       "      <td>22:06:24</td>\n",
       "    </tr>\n",
       "    <tr>\n",
       "      <th>...</th>\n",
       "      <td>...</td>\n",
       "      <td>...</td>\n",
       "      <td>...</td>\n",
       "      <td>...</td>\n",
       "      <td>...</td>\n",
       "      <td>...</td>\n",
       "      <td>...</td>\n",
       "      <td>...</td>\n",
       "      <td>...</td>\n",
       "    </tr>\n",
       "    <tr>\n",
       "      <th>4683</th>\n",
       "      <td>29.34</td>\n",
       "      <td>9921.75</td>\n",
       "      <td>-17.49</td>\n",
       "      <td>327</td>\n",
       "      <td>1</td>\n",
       "      <td>0</td>\n",
       "      <td>Dry</td>\n",
       "      <td>08-10-2022</td>\n",
       "      <td>22:06:24</td>\n",
       "    </tr>\n",
       "    <tr>\n",
       "      <th>4684</th>\n",
       "      <td>29.31</td>\n",
       "      <td>9921.45</td>\n",
       "      <td>-17.52</td>\n",
       "      <td>328</td>\n",
       "      <td>1</td>\n",
       "      <td>0</td>\n",
       "      <td>Dry</td>\n",
       "      <td>08-10-2022</td>\n",
       "      <td>22:06:24</td>\n",
       "    </tr>\n",
       "    <tr>\n",
       "      <th>4685</th>\n",
       "      <td>29.29</td>\n",
       "      <td>9921.48</td>\n",
       "      <td>-17.51</td>\n",
       "      <td>328</td>\n",
       "      <td>1</td>\n",
       "      <td>0</td>\n",
       "      <td>Dry</td>\n",
       "      <td>08-10-2022</td>\n",
       "      <td>22:06:24</td>\n",
       "    </tr>\n",
       "    <tr>\n",
       "      <th>4686</th>\n",
       "      <td>29.26</td>\n",
       "      <td>9921.51</td>\n",
       "      <td>-17.51</td>\n",
       "      <td>327</td>\n",
       "      <td>1</td>\n",
       "      <td>0</td>\n",
       "      <td>Dry</td>\n",
       "      <td>08-10-2022</td>\n",
       "      <td>22:06:24</td>\n",
       "    </tr>\n",
       "    <tr>\n",
       "      <th>4687</th>\n",
       "      <td>29.28</td>\n",
       "      <td>9922.20</td>\n",
       "      <td>-17.45</td>\n",
       "      <td>323</td>\n",
       "      <td>1</td>\n",
       "      <td>0</td>\n",
       "      <td>Dry</td>\n",
       "      <td>08-10-2022</td>\n",
       "      <td>22:06:24</td>\n",
       "    </tr>\n",
       "  </tbody>\n",
       "</table>\n",
       "<p>4688 rows × 9 columns</p>\n",
       "</div>"
      ],
      "text/plain": [
       "      temperature  pressure  altitude  soilmiosture  note  status     class  \\\n",
       "0           29.10   9984.53    -12.21           377     0       0  Very Dry   \n",
       "1           29.08   9984.36    -12.22           379     0       0  Very Dry   \n",
       "2           29.06   9984.56    -12.20           376     0       0  Very Dry   \n",
       "3           29.05   9984.39    -12.22           377     0       0  Very Dry   \n",
       "4           29.03   9984.42    -12.21           379     0       0  Very Dry   \n",
       "...           ...       ...       ...           ...   ...     ...       ...   \n",
       "4683        29.34   9921.75    -17.49           327     1       0       Dry   \n",
       "4684        29.31   9921.45    -17.52           328     1       0       Dry   \n",
       "4685        29.29   9921.48    -17.51           328     1       0       Dry   \n",
       "4686        29.26   9921.51    -17.51           327     1       0       Dry   \n",
       "4687        29.28   9922.20    -17.45           323     1       0       Dry   \n",
       "\n",
       "            date      time  \n",
       "0     08-10-2022  22:06:24  \n",
       "1     08-10-2022  22:06:24  \n",
       "2     08-10-2022  22:06:24  \n",
       "3     08-10-2022  22:06:24  \n",
       "4     08-10-2022  22:06:24  \n",
       "...          ...       ...  \n",
       "4683  08-10-2022  22:06:24  \n",
       "4684  08-10-2022  22:06:24  \n",
       "4685  08-10-2022  22:06:24  \n",
       "4686  08-10-2022  22:06:24  \n",
       "4687  08-10-2022  22:06:24  \n",
       "\n",
       "[4688 rows x 9 columns]"
      ]
     },
     "execution_count": 13,
     "metadata": {},
     "output_type": "execute_result"
    }
   ],
   "source": [
    "df"
   ]
  },
  {
   "cell_type": "code",
   "execution_count": 14,
   "metadata": {
    "colab": {
     "base_uri": "https://localhost:8080/"
    },
    "id": "JrDCgaj5sU77",
    "outputId": "25275eb7-0996-4a7c-95a8-78f7caf936bb"
   },
   "outputs": [
    {
     "data": {
      "text/plain": [
       "temperature     0\n",
       "pressure        0\n",
       "altitude        0\n",
       "soilmiosture    0\n",
       "note            0\n",
       "status          0\n",
       "class           0\n",
       "date            0\n",
       "time            0\n",
       "dtype: int64"
      ]
     },
     "execution_count": 14,
     "metadata": {},
     "output_type": "execute_result"
    }
   ],
   "source": [
    "df.isna().sum()"
   ]
  },
  {
   "cell_type": "code",
   "execution_count": 15,
   "metadata": {
    "colab": {
     "base_uri": "https://localhost:8080/"
    },
    "id": "4CRsXlgXsZxC",
    "outputId": "355c71a4-53c6-4cc0-8ee2-b70bed366d62"
   },
   "outputs": [
    {
     "data": {
      "text/plain": [
       "Very Wet    1842\n",
       "Wet         1457\n",
       "Very Dry    1023\n",
       "Dry          366\n",
       "Name: class, dtype: int64"
      ]
     },
     "execution_count": 15,
     "metadata": {},
     "output_type": "execute_result"
    }
   ],
   "source": [
    "#Checking the number of non empty values of each class\n",
    "df['class'].value_counts()"
   ]
  },
  {
   "cell_type": "code",
   "execution_count": 16,
   "metadata": {
    "colab": {
     "base_uri": "https://localhost:8080/",
     "height": 430
    },
    "id": "109mzO5isiRI",
    "outputId": "41630cfb-f9a9-4313-8375-3c37b5d72a3c"
   },
   "outputs": [
    {
     "data": {
      "image/png": "[encoded data removed]",
      "text/plain": [
       "<Figure size 640x480 with 1 Axes>"
      ]
     },
     "metadata": {},
     "output_type": "display_data"
    }
   ],
   "source": [
    "import matplotlib.pyplot as plt\n",
    "plt.hist(df['class'])\n",
    "plt.show()"
   ]
  },
  {
   "cell_type": "code",
   "execution_count": 17,
   "metadata": {
    "id": "U42JjmVesm7q"
   },
   "outputs": [],
   "source": [
    "#Putting the count in a list\n",
    "List=[366,1023,1842,1457]"
   ]
  },
  {
   "cell_type": "code",
   "execution_count": 18,
   "metadata": {
    "colab": {
     "base_uri": "https://localhost:8080/",
     "height": 406
    },
    "id": "u19BjB17swlB",
    "outputId": "869cb3b2-da0e-4e9d-e75d-92c6fccf32d0"
   },
   "outputs": [
    {
     "data": {
      "image/png": "[encoded data removed]",
      "text/plain": [
       "<Figure size 640x480 with 1 Axes>"
      ]
     },
     "metadata": {},
     "output_type": "display_data"
    }
   ],
   "source": [
    "#Visualizing it using piechart\n",
    "import matplotlib.pyplot as plt\n",
    "plt.pie(List,labels=[\"Dry\",\"Very Dry\",\"Very wet\",\"Wet\"])\n",
    "plt.show()"
   ]
  },
  {
   "cell_type": "code",
   "execution_count": 19,
   "metadata": {
    "colab": {
     "base_uri": "https://localhost:8080/"
    },
    "id": "fJ3KlxSus4wE",
    "outputId": "b260e3e8-c29b-49b7-b3eb-9e4d94c6db39"
   },
   "outputs": [
    {
     "data": {
      "text/plain": [
       "array(['Very Dry', 'Very Dry', 'Very Dry', ..., 'Dry', 'Dry', 'Dry'],\n",
       "      dtype=object)"
      ]
     },
     "execution_count": 19,
     "metadata": {},
     "output_type": "execute_result"
    }
   ],
   "source": [
    "#To display the values of column class\n",
    "df.iloc[:,6].values"
   ]
  },
  {
   "cell_type": "code",
   "execution_count": 20,
   "metadata": {
    "id": "Y8SPEDZ8XgMD"
   },
   "outputs": [],
   "source": [
    "df.replace({'class':{'Very Wet':1,'Wet':1,'Very Dry':0,'Dry':0}},inplace=True)"
   ]
  },
  {
   "cell_type": "code",
   "execution_count": 21,
   "metadata": {
    "colab": {
     "base_uri": "https://localhost:8080/",
     "height": 424
    },
    "id": "1C85NipZYCKT",
    "outputId": "57dca44b-899e-4e65-cc96-668090b3aca7"
   },
   "outputs": [
    {
     "data": {
      "text/html": [
       "<div>\n",
       "<style scoped>\n",
       "    .dataframe tbody tr th:only-of-type {\n",
       "        vertical-align: middle;\n",
       "    }\n",
       "\n",
       "    .dataframe tbody tr th {\n",
       "        vertical-align: top;\n",
       "    }\n",
       "\n",
       "    .dataframe thead th {\n",
       "        text-align: right;\n",
       "    }\n",
       "</style>\n",
       "<table border=\"1\" class=\"dataframe\">\n",
       "  <thead>\n",
       "    <tr style=\"text-align: right;\">\n",
       "      <th></th>\n",
       "      <th>temperature</th>\n",
       "      <th>pressure</th>\n",
       "      <th>altitude</th>\n",
       "      <th>soilmiosture</th>\n",
       "      <th>note</th>\n",
       "      <th>status</th>\n",
       "      <th>class</th>\n",
       "      <th>date</th>\n",
       "      <th>time</th>\n",
       "    </tr>\n",
       "  </thead>\n",
       "  <tbody>\n",
       "    <tr>\n",
       "      <th>0</th>\n",
       "      <td>29.10</td>\n",
       "      <td>9984.53</td>\n",
       "      <td>-12.21</td>\n",
       "      <td>377</td>\n",
       "      <td>0</td>\n",
       "      <td>0</td>\n",
       "      <td>0</td>\n",
       "      <td>08-10-2022</td>\n",
       "      <td>22:06:24</td>\n",
       "    </tr>\n",
       "    <tr>\n",
       "      <th>1</th>\n",
       "      <td>29.08</td>\n",
       "      <td>9984.36</td>\n",
       "      <td>-12.22</td>\n",
       "      <td>379</td>\n",
       "      <td>0</td>\n",
       "      <td>0</td>\n",
       "      <td>0</td>\n",
       "      <td>08-10-2022</td>\n",
       "      <td>22:06:24</td>\n",
       "    </tr>\n",
       "    <tr>\n",
       "      <th>2</th>\n",
       "      <td>29.06</td>\n",
       "      <td>9984.56</td>\n",
       "      <td>-12.20</td>\n",
       "      <td>376</td>\n",
       "      <td>0</td>\n",
       "      <td>0</td>\n",
       "      <td>0</td>\n",
       "      <td>08-10-2022</td>\n",
       "      <td>22:06:24</td>\n",
       "    </tr>\n",
       "    <tr>\n",
       "      <th>3</th>\n",
       "      <td>29.05</td>\n",
       "      <td>9984.39</td>\n",
       "      <td>-12.22</td>\n",
       "      <td>377</td>\n",
       "      <td>0</td>\n",
       "      <td>0</td>\n",
       "      <td>0</td>\n",
       "      <td>08-10-2022</td>\n",
       "      <td>22:06:24</td>\n",
       "    </tr>\n",
       "    <tr>\n",
       "      <th>4</th>\n",
       "      <td>29.03</td>\n",
       "      <td>9984.42</td>\n",
       "      <td>-12.21</td>\n",
       "      <td>379</td>\n",
       "      <td>0</td>\n",
       "      <td>0</td>\n",
       "      <td>0</td>\n",
       "      <td>08-10-2022</td>\n",
       "      <td>22:06:24</td>\n",
       "    </tr>\n",
       "    <tr>\n",
       "      <th>...</th>\n",
       "      <td>...</td>\n",
       "      <td>...</td>\n",
       "      <td>...</td>\n",
       "      <td>...</td>\n",
       "      <td>...</td>\n",
       "      <td>...</td>\n",
       "      <td>...</td>\n",
       "      <td>...</td>\n",
       "      <td>...</td>\n",
       "    </tr>\n",
       "    <tr>\n",
       "      <th>4683</th>\n",
       "      <td>29.34</td>\n",
       "      <td>9921.75</td>\n",
       "      <td>-17.49</td>\n",
       "      <td>327</td>\n",
       "      <td>1</td>\n",
       "      <td>0</td>\n",
       "      <td>0</td>\n",
       "      <td>08-10-2022</td>\n",
       "      <td>22:06:24</td>\n",
       "    </tr>\n",
       "    <tr>\n",
       "      <th>4684</th>\n",
       "      <td>29.31</td>\n",
       "      <td>9921.45</td>\n",
       "      <td>-17.52</td>\n",
       "      <td>328</td>\n",
       "      <td>1</td>\n",
       "      <td>0</td>\n",
       "      <td>0</td>\n",
       "      <td>08-10-2022</td>\n",
       "      <td>22:06:24</td>\n",
       "    </tr>\n",
       "    <tr>\n",
       "      <th>4685</th>\n",
       "      <td>29.29</td>\n",
       "      <td>9921.48</td>\n",
       "      <td>-17.51</td>\n",
       "      <td>328</td>\n",
       "      <td>1</td>\n",
       "      <td>0</td>\n",
       "      <td>0</td>\n",
       "      <td>08-10-2022</td>\n",
       "      <td>22:06:24</td>\n",
       "    </tr>\n",
       "    <tr>\n",
       "      <th>4686</th>\n",
       "      <td>29.26</td>\n",
       "      <td>9921.51</td>\n",
       "      <td>-17.51</td>\n",
       "      <td>327</td>\n",
       "      <td>1</td>\n",
       "      <td>0</td>\n",
       "      <td>0</td>\n",
       "      <td>08-10-2022</td>\n",
       "      <td>22:06:24</td>\n",
       "    </tr>\n",
       "    <tr>\n",
       "      <th>4687</th>\n",
       "      <td>29.28</td>\n",
       "      <td>9922.20</td>\n",
       "      <td>-17.45</td>\n",
       "      <td>323</td>\n",
       "      <td>1</td>\n",
       "      <td>0</td>\n",
       "      <td>0</td>\n",
       "      <td>08-10-2022</td>\n",
       "      <td>22:06:24</td>\n",
       "    </tr>\n",
       "  </tbody>\n",
       "</table>\n",
       "<p>4688 rows × 9 columns</p>\n",
       "</div>"
      ],
      "text/plain": [
       "      temperature  pressure  altitude  soilmiosture  note  status  class  \\\n",
       "0           29.10   9984.53    -12.21           377     0       0      0   \n",
       "1           29.08   9984.36    -12.22           379     0       0      0   \n",
       "2           29.06   9984.56    -12.20           376     0       0      0   \n",
       "3           29.05   9984.39    -12.22           377     0       0      0   \n",
       "4           29.03   9984.42    -12.21           379     0       0      0   \n",
       "...           ...       ...       ...           ...   ...     ...    ...   \n",
       "4683        29.34   9921.75    -17.49           327     1       0      0   \n",
       "4684        29.31   9921.45    -17.52           328     1       0      0   \n",
       "4685        29.29   9921.48    -17.51           328     1       0      0   \n",
       "4686        29.26   9921.51    -17.51           327     1       0      0   \n",
       "4687        29.28   9922.20    -17.45           323     1       0      0   \n",
       "\n",
       "            date      time  \n",
       "0     08-10-2022  22:06:24  \n",
       "1     08-10-2022  22:06:24  \n",
       "2     08-10-2022  22:06:24  \n",
       "3     08-10-2022  22:06:24  \n",
       "4     08-10-2022  22:06:24  \n",
       "...          ...       ...  \n",
       "4683  08-10-2022  22:06:24  \n",
       "4684  08-10-2022  22:06:24  \n",
       "4685  08-10-2022  22:06:24  \n",
       "4686  08-10-2022  22:06:24  \n",
       "4687  08-10-2022  22:06:24  \n",
       "\n",
       "[4688 rows x 9 columns]"
      ]
     },
     "execution_count": 21,
     "metadata": {},
     "output_type": "execute_result"
    }
   ],
   "source": [
    "df"
   ]
  },
  {
   "cell_type": "code",
   "execution_count": 22,
   "metadata": {
    "colab": {
     "base_uri": "https://localhost:8080/",
     "height": 269
    },
    "id": "CtkS8dD4tSiL",
    "outputId": "692658eb-ecc7-45d1-be53-c1123099bd66"
   },
   "outputs": [
    {
     "data": {
      "text/html": [
       "<div>\n",
       "<style scoped>\n",
       "    .dataframe tbody tr th:only-of-type {\n",
       "        vertical-align: middle;\n",
       "    }\n",
       "\n",
       "    .dataframe tbody tr th {\n",
       "        vertical-align: top;\n",
       "    }\n",
       "\n",
       "    .dataframe thead th {\n",
       "        text-align: right;\n",
       "    }\n",
       "</style>\n",
       "<table border=\"1\" class=\"dataframe\">\n",
       "  <thead>\n",
       "    <tr style=\"text-align: right;\">\n",
       "      <th></th>\n",
       "      <th>temperature</th>\n",
       "      <th>pressure</th>\n",
       "      <th>altitude</th>\n",
       "      <th>soilmiosture</th>\n",
       "      <th>note</th>\n",
       "      <th>status</th>\n",
       "      <th>class</th>\n",
       "    </tr>\n",
       "  </thead>\n",
       "  <tbody>\n",
       "    <tr>\n",
       "      <th>temperature</th>\n",
       "      <td>1.000000</td>\n",
       "      <td>0.069229</td>\n",
       "      <td>0.290575</td>\n",
       "      <td>-0.139279</td>\n",
       "      <td>0.034205</td>\n",
       "      <td>0.028588</td>\n",
       "      <td>0.028588</td>\n",
       "    </tr>\n",
       "    <tr>\n",
       "      <th>pressure</th>\n",
       "      <td>0.069229</td>\n",
       "      <td>1.000000</td>\n",
       "      <td>0.695914</td>\n",
       "      <td>-0.054813</td>\n",
       "      <td>-0.007703</td>\n",
       "      <td>0.003589</td>\n",
       "      <td>0.003589</td>\n",
       "    </tr>\n",
       "    <tr>\n",
       "      <th>altitude</th>\n",
       "      <td>0.290575</td>\n",
       "      <td>0.695914</td>\n",
       "      <td>1.000000</td>\n",
       "      <td>-0.134397</td>\n",
       "      <td>0.076287</td>\n",
       "      <td>0.087809</td>\n",
       "      <td>0.087809</td>\n",
       "    </tr>\n",
       "    <tr>\n",
       "      <th>soilmiosture</th>\n",
       "      <td>-0.139279</td>\n",
       "      <td>-0.054813</td>\n",
       "      <td>-0.134397</td>\n",
       "      <td>1.000000</td>\n",
       "      <td>-0.969905</td>\n",
       "      <td>-0.894602</td>\n",
       "      <td>-0.894602</td>\n",
       "    </tr>\n",
       "    <tr>\n",
       "      <th>note</th>\n",
       "      <td>0.034205</td>\n",
       "      <td>-0.007703</td>\n",
       "      <td>0.076287</td>\n",
       "      <td>-0.969905</td>\n",
       "      <td>1.000000</td>\n",
       "      <td>0.908939</td>\n",
       "      <td>0.908939</td>\n",
       "    </tr>\n",
       "    <tr>\n",
       "      <th>status</th>\n",
       "      <td>0.028588</td>\n",
       "      <td>0.003589</td>\n",
       "      <td>0.087809</td>\n",
       "      <td>-0.894602</td>\n",
       "      <td>0.908939</td>\n",
       "      <td>1.000000</td>\n",
       "      <td>1.000000</td>\n",
       "    </tr>\n",
       "    <tr>\n",
       "      <th>class</th>\n",
       "      <td>0.028588</td>\n",
       "      <td>0.003589</td>\n",
       "      <td>0.087809</td>\n",
       "      <td>-0.894602</td>\n",
       "      <td>0.908939</td>\n",
       "      <td>1.000000</td>\n",
       "      <td>1.000000</td>\n",
       "    </tr>\n",
       "  </tbody>\n",
       "</table>\n",
       "</div>"
      ],
      "text/plain": [
       "              temperature  pressure  altitude  soilmiosture      note  \\\n",
       "temperature      1.000000  0.069229  0.290575     -0.139279  0.034205   \n",
       "pressure         0.069229  1.000000  0.695914     -0.054813 -0.007703   \n",
       "altitude         0.290575  0.695914  1.000000     -0.134397  0.076287   \n",
       "soilmiosture    -0.139279 -0.054813 -0.134397      1.000000 -0.969905   \n",
       "note             0.034205 -0.007703  0.076287     -0.969905  1.000000   \n",
       "status           0.028588  0.003589  0.087809     -0.894602  0.908939   \n",
       "class            0.028588  0.003589  0.087809     -0.894602  0.908939   \n",
       "\n",
       "                status     class  \n",
       "temperature   0.028588  0.028588  \n",
       "pressure      0.003589  0.003589  \n",
       "altitude      0.087809  0.087809  \n",
       "soilmiosture -0.894602 -0.894602  \n",
       "note          0.908939  0.908939  \n",
       "status        1.000000  1.000000  \n",
       "class         1.000000  1.000000  "
      ]
     },
     "execution_count": 22,
     "metadata": {},
     "output_type": "execute_result"
    }
   ],
   "source": [
    "#Finding the correlation\n",
    "#corr() function tells us how one column can influence the other\n",
    "data=df.iloc[:,0:7].corr()\n",
    "data"
   ]
  },
  {
   "cell_type": "code",
   "execution_count": null,
   "metadata": {
    "id": "T9q1Bz3rtovh"
   },
   "outputs": [],
   "source": []
  },
  {
   "cell_type": "code",
   "execution_count": 23,
   "metadata": {
    "colab": {
     "base_uri": "https://localhost:8080/",
     "height": 526
    },
    "id": "63e14d_GtUpQ",
    "outputId": "d52edbcf-c54b-4449-e88c-71434680a8c0"
   },
   "outputs": [
    {
     "data": {
      "text/plain": [
       "<AxesSubplot:>"
      ]
     },
     "execution_count": 23,
     "metadata": {},
     "output_type": "execute_result"
    },
    {
     "data": {
      "image/png": "[encoded data removed]",
      "text/plain": [
       "<Figure size 640x480 with 2 Axes>"
      ]
     },
     "metadata": {},
     "output_type": "display_data"
    }
   ],
   "source": [
    "#Visualize the correlation of above data using heatmap\n",
    "import seaborn as sns\n",
    "sns.heatmap(data,annot=True,fmt='.0%')"
   ]
  },
  {
   "cell_type": "code",
   "execution_count": 24,
   "metadata": {
    "id": "dJmiOXihZHzd"
   },
   "outputs": [],
   "source": [
    "X = df.drop(['note','status','date','time','class'],axis=1)\n",
    "Y=df['class']"
   ]
  },
  {
   "cell_type": "code",
   "execution_count": 25,
   "metadata": {
    "colab": {
     "base_uri": "https://localhost:8080/",
     "height": 424
    },
    "id": "oGBS7_NDaVpx",
    "outputId": "4ff762e6-6342-4356-f3bf-d010353157df"
   },
   "outputs": [
    {
     "data": {
      "text/html": [
       "<div>\n",
       "<style scoped>\n",
       "    .dataframe tbody tr th:only-of-type {\n",
       "        vertical-align: middle;\n",
       "    }\n",
       "\n",
       "    .dataframe tbody tr th {\n",
       "        vertical-align: top;\n",
       "    }\n",
       "\n",
       "    .dataframe thead th {\n",
       "        text-align: right;\n",
       "    }\n",
       "</style>\n",
       "<table border=\"1\" class=\"dataframe\">\n",
       "  <thead>\n",
       "    <tr style=\"text-align: right;\">\n",
       "      <th></th>\n",
       "      <th>temperature</th>\n",
       "      <th>pressure</th>\n",
       "      <th>altitude</th>\n",
       "      <th>soilmiosture</th>\n",
       "    </tr>\n",
       "  </thead>\n",
       "  <tbody>\n",
       "    <tr>\n",
       "      <th>0</th>\n",
       "      <td>29.10</td>\n",
       "      <td>9984.53</td>\n",
       "      <td>-12.21</td>\n",
       "      <td>377</td>\n",
       "    </tr>\n",
       "    <tr>\n",
       "      <th>1</th>\n",
       "      <td>29.08</td>\n",
       "      <td>9984.36</td>\n",
       "      <td>-12.22</td>\n",
       "      <td>379</td>\n",
       "    </tr>\n",
       "    <tr>\n",
       "      <th>2</th>\n",
       "      <td>29.06</td>\n",
       "      <td>9984.56</td>\n",
       "      <td>-12.20</td>\n",
       "      <td>376</td>\n",
       "    </tr>\n",
       "    <tr>\n",
       "      <th>3</th>\n",
       "      <td>29.05</td>\n",
       "      <td>9984.39</td>\n",
       "      <td>-12.22</td>\n",
       "      <td>377</td>\n",
       "    </tr>\n",
       "    <tr>\n",
       "      <th>4</th>\n",
       "      <td>29.03</td>\n",
       "      <td>9984.42</td>\n",
       "      <td>-12.21</td>\n",
       "      <td>379</td>\n",
       "    </tr>\n",
       "    <tr>\n",
       "      <th>...</th>\n",
       "      <td>...</td>\n",
       "      <td>...</td>\n",
       "      <td>...</td>\n",
       "      <td>...</td>\n",
       "    </tr>\n",
       "    <tr>\n",
       "      <th>4683</th>\n",
       "      <td>29.34</td>\n",
       "      <td>9921.75</td>\n",
       "      <td>-17.49</td>\n",
       "      <td>327</td>\n",
       "    </tr>\n",
       "    <tr>\n",
       "      <th>4684</th>\n",
       "      <td>29.31</td>\n",
       "      <td>9921.45</td>\n",
       "      <td>-17.52</td>\n",
       "      <td>328</td>\n",
       "    </tr>\n",
       "    <tr>\n",
       "      <th>4685</th>\n",
       "      <td>29.29</td>\n",
       "      <td>9921.48</td>\n",
       "      <td>-17.51</td>\n",
       "      <td>328</td>\n",
       "    </tr>\n",
       "    <tr>\n",
       "      <th>4686</th>\n",
       "      <td>29.26</td>\n",
       "      <td>9921.51</td>\n",
       "      <td>-17.51</td>\n",
       "      <td>327</td>\n",
       "    </tr>\n",
       "    <tr>\n",
       "      <th>4687</th>\n",
       "      <td>29.28</td>\n",
       "      <td>9922.20</td>\n",
       "      <td>-17.45</td>\n",
       "      <td>323</td>\n",
       "    </tr>\n",
       "  </tbody>\n",
       "</table>\n",
       "<p>4688 rows × 4 columns</p>\n",
       "</div>"
      ],
      "text/plain": [
       "      temperature  pressure  altitude  soilmiosture\n",
       "0           29.10   9984.53    -12.21           377\n",
       "1           29.08   9984.36    -12.22           379\n",
       "2           29.06   9984.56    -12.20           376\n",
       "3           29.05   9984.39    -12.22           377\n",
       "4           29.03   9984.42    -12.21           379\n",
       "...           ...       ...       ...           ...\n",
       "4683        29.34   9921.75    -17.49           327\n",
       "4684        29.31   9921.45    -17.52           328\n",
       "4685        29.29   9921.48    -17.51           328\n",
       "4686        29.26   9921.51    -17.51           327\n",
       "4687        29.28   9922.20    -17.45           323\n",
       "\n",
       "[4688 rows x 4 columns]"
      ]
     },
     "execution_count": 25,
     "metadata": {},
     "output_type": "execute_result"
    }
   ],
   "source": [
    "X"
   ]
  },
  {
   "cell_type": "code",
   "execution_count": 26,
   "metadata": {
    "colab": {
     "base_uri": "https://localhost:8080/"
    },
    "id": "7qBIWq61aVYk",
    "outputId": "91a3f480-3f6d-4489-ac96-194747c0cc85"
   },
   "outputs": [
    {
     "data": {
      "text/plain": [
       "0       0\n",
       "1       0\n",
       "2       0\n",
       "3       0\n",
       "4       0\n",
       "       ..\n",
       "4683    0\n",
       "4684    0\n",
       "4685    0\n",
       "4686    0\n",
       "4687    0\n",
       "Name: class, Length: 4688, dtype: int64"
      ]
     },
     "execution_count": 26,
     "metadata": {},
     "output_type": "execute_result"
    }
   ],
   "source": [
    "Y"
   ]
  },
  {
   "cell_type": "code",
   "execution_count": 27,
   "metadata": {
    "id": "JC6QkAWSth2X"
   },
   "outputs": [],
   "source": [
    "#Splitting dataset into 80% training and 20% testing\n",
    "from sklearn.model_selection import train_test_split\n",
    "X_train,X_test,Y_train,Y_test=train_test_split(X,Y,test_size=0.20,random_state=42)"
   ]
  },
  {
   "cell_type": "code",
   "execution_count": 28,
   "metadata": {
    "colab": {
     "base_uri": "https://localhost:8080/",
     "height": 75
    },
    "id": "zaTb3xfxtwhP",
    "outputId": "74b7fe0d-b98e-493a-8a50-965655ca9421"
   },
   "outputs": [
    {
     "data": {
      "text/plain": [
       "LogisticRegression()"
      ]
     },
     "execution_count": 28,
     "metadata": {},
     "output_type": "execute_result"
    }
   ],
   "source": [
    "#Fitting the Logistic Regression model on X and Y\n",
    "from sklearn.linear_model import LogisticRegression\n",
    "model1=LogisticRegression()\n",
    "model1.fit(X_train,Y_train)"
   ]
  },
  {
   "cell_type": "code",
   "execution_count": 29,
   "metadata": {
    "id": "KSm04Z7Ft2DP"
   },
   "outputs": [],
   "source": [
    "# prediction of this model\n",
    "pred1=model1.predict(X_test)"
   ]
  },
  {
   "cell_type": "code",
   "execution_count": 30,
   "metadata": {
    "colab": {
     "base_uri": "https://localhost:8080/"
    },
    "id": "RpJd-8V4t-3j",
    "outputId": "43d45cab-d3d1-4792-a788-b6ca8e6ee1aa"
   },
   "outputs": [
    {
     "data": {
      "text/plain": [
       "1.0"
      ]
     },
     "execution_count": 30,
     "metadata": {},
     "output_type": "execute_result"
    }
   ],
   "source": [
    "#Testing model accuracy on test data\n",
    "from sklearn.metrics import accuracy_score\n",
    "accuracy_score(Y_test,pred1)"
   ]
  },
  {
   "cell_type": "code",
   "execution_count": 31,
   "metadata": {
    "id": "gglwD_NlRdED"
   },
   "outputs": [],
   "source": [
    "from sklearn.preprocessing import MinMaxScaler\n",
    "sc = MinMaxScaler()\n",
    "X_train_scaled = sc.fit_transform(X_train)\n",
    "X_test_scaled = sc.transform(X_test)"
   ]
  },
  {
   "cell_type": "code",
   "execution_count": 32,
   "metadata": {
    "colab": {
     "base_uri": "https://localhost:8080/",
     "height": 75
    },
    "id": "2bLQd_xauAVc",
    "outputId": "48c2a084-15ac-4d73-967b-2752fb255570"
   },
   "outputs": [
    {
     "data": {
      "text/plain": [
       "LogisticRegression()"
      ]
     },
     "execution_count": 32,
     "metadata": {},
     "output_type": "execute_result"
    }
   ],
   "source": [
    "#Fitting the Logistic Regression model on scaled X and scaled Y\n",
    "from sklearn.linear_model import LogisticRegression\n",
    "model2=LogisticRegression()\n",
    "model2.fit(X_train_scaled,Y_train)"
   ]
  },
  {
   "cell_type": "code",
   "execution_count": 33,
   "metadata": {
    "colab": {
     "base_uri": "https://localhost:8080/"
    },
    "id": "Kh1-6mAiuIt_",
    "outputId": "87ad1cf7-10cc-47c1-ec8c-8b13a941a5e9"
   },
   "outputs": [
    {
     "data": {
      "text/plain": [
       "array([1, 1, 1, 0, 0, 0, 1, 1, 1, 0, 1, 0, 0, 1, 1, 1, 1, 1, 1, 1, 1, 0,\n",
       "       1, 1, 0, 0, 1, 1, 0, 1, 1, 0, 1, 0, 0, 1, 1, 0, 1, 1, 1, 1, 0, 1,\n",
       "       1, 0, 1, 1, 0, 1, 0, 1, 0, 1, 1, 1, 1, 1, 1, 0, 0, 0, 1, 1, 1, 0,\n",
       "       1, 1, 1, 1, 0, 1, 1, 1, 1, 1, 1, 1, 1, 0, 1, 1, 1, 0, 1, 0, 1, 0,\n",
       "       0, 1, 1, 1, 1, 0, 0, 1, 0, 0, 1, 1, 1, 1, 1, 1, 1, 0, 1, 0, 1, 1,\n",
       "       1, 1, 1, 1, 1, 1, 1, 1, 1, 0, 0, 1, 1, 1, 1, 0, 1, 1, 1, 0, 1, 1,\n",
       "       1, 1, 1, 0, 1, 1, 0, 0, 0, 1, 1, 1, 1, 1, 1, 1, 0, 1, 0, 1, 0, 1,\n",
       "       0, 0, 1, 1, 1, 0, 1, 1, 1, 1, 1, 0, 1, 0, 0, 0, 0, 1, 1, 1, 1, 1,\n",
       "       0, 1, 1, 1, 0, 0, 0, 0, 1, 1, 1, 1, 1, 1, 1, 1, 1, 0, 1, 0, 0, 1,\n",
       "       0, 0, 1, 1, 0, 0, 1, 1, 1, 1, 1, 1, 1, 1, 1, 0, 1, 1, 1, 0, 1, 1,\n",
       "       1, 1, 1, 0, 1, 0, 1, 0, 1, 1, 1, 1, 0, 1, 1, 1, 1, 0, 1, 1, 1, 1,\n",
       "       0, 0, 1, 1, 0, 1, 1, 1, 1, 0, 1, 1, 1, 1, 1, 1, 1, 0, 0, 1, 1, 1,\n",
       "       1, 1, 1, 1, 0, 1, 0, 1, 1, 1, 1, 1, 1, 1, 1, 1, 1, 1, 0, 1, 1, 0,\n",
       "       1, 1, 1, 1, 1, 1, 0, 1, 1, 1, 1, 1, 1, 0, 1, 0, 1, 1, 1, 0, 1, 1,\n",
       "       0, 1, 1, 0, 0, 1, 0, 1, 0, 1, 1, 1, 1, 0, 1, 1, 1, 0, 1, 1, 1, 0,\n",
       "       1, 1, 0, 1, 1, 0, 1, 1, 1, 1, 1, 1, 1, 1, 1, 1, 1, 1, 1, 0, 1, 1,\n",
       "       1, 0, 1, 0, 1, 1, 1, 1, 1, 1, 1, 1, 0, 1, 0, 1, 0, 1, 1, 1, 1, 0,\n",
       "       1, 0, 1, 1, 0, 1, 1, 0, 1, 0, 1, 1, 0, 1, 1, 1, 1, 1, 0, 1, 0, 1,\n",
       "       1, 1, 1, 1, 1, 1, 1, 1, 0, 1, 1, 1, 1, 1, 1, 1, 1, 1, 0, 0, 1, 1,\n",
       "       0, 1, 0, 1, 0, 1, 1, 0, 0, 1, 0, 0, 1, 1, 1, 1, 0, 1, 0, 1, 1, 1,\n",
       "       0, 1, 1, 0, 1, 0, 1, 1, 1, 1, 1, 1, 1, 1, 1, 1, 1, 1, 0, 0, 0, 1,\n",
       "       0, 0, 0, 1, 1, 1, 1, 1, 1, 1, 1, 0, 1, 1, 0, 0, 0, 1, 0, 1, 0, 1,\n",
       "       0, 0, 0, 1, 0, 1, 0, 0, 1, 1, 1, 1, 0, 0, 1, 1, 1, 1, 1, 1, 1, 1,\n",
       "       1, 0, 1, 1, 0, 1, 1, 1, 1, 1, 1, 1, 0, 1, 1, 1, 1, 1, 1, 1, 1, 0,\n",
       "       1, 1, 1, 1, 1, 1, 0, 1, 1, 1, 0, 0, 1, 0, 0, 0, 1, 1, 1, 0, 1, 0,\n",
       "       1, 1, 1, 0, 1, 1, 1, 1, 1, 0, 1, 1, 0, 1, 1, 1, 1, 1, 0, 0, 1, 1,\n",
       "       1, 1, 1, 1, 1, 1, 0, 0, 0, 1, 0, 1, 1, 1, 1, 1, 1, 1, 1, 1, 1, 0,\n",
       "       1, 0, 1, 0, 0, 0, 0, 1, 1, 1, 1, 1, 0, 1, 0, 1, 1, 1, 0, 1, 0, 1,\n",
       "       1, 1, 1, 1, 0, 1, 0, 1, 1, 1, 1, 1, 1, 1, 0, 0, 1, 1, 1, 1, 0, 1,\n",
       "       0, 0, 1, 1, 1, 1, 1, 1, 1, 0, 1, 1, 1, 1, 1, 1, 0, 1, 1, 0, 1, 0,\n",
       "       1, 1, 0, 1, 1, 0, 1, 1, 1, 1, 1, 1, 1, 1, 0, 0, 1, 1, 0, 1, 0, 1,\n",
       "       1, 0, 1, 0, 1, 0, 1, 1, 1, 1, 1, 0, 1, 0, 0, 1, 1, 1, 1, 0, 0, 1,\n",
       "       0, 1, 0, 1, 0, 1, 1, 1, 1, 1, 1, 0, 1, 1, 1, 1, 1, 1, 1, 1, 0, 0,\n",
       "       1, 1, 1, 1, 1, 1, 1, 1, 1, 1, 1, 0, 1, 1, 0, 1, 1, 1, 1, 1, 0, 1,\n",
       "       1, 1, 1, 1, 1, 1, 0, 1, 0, 0, 1, 0, 1, 0, 1, 1, 1, 1, 1, 1, 1, 1,\n",
       "       1, 1, 0, 1, 1, 1, 0, 1, 0, 1, 1, 1, 1, 1, 1, 0, 1, 1, 0, 1, 1, 1,\n",
       "       1, 0, 0, 1, 1, 0, 0, 1, 1, 1, 1, 0, 1, 0, 1, 1, 0, 1, 1, 1, 1, 1,\n",
       "       1, 1, 1, 0, 0, 0, 1, 1, 1, 0, 1, 1, 1, 1, 1, 0, 1, 1, 1, 1, 1, 0,\n",
       "       1, 0, 1, 1, 1, 1, 0, 1, 1, 0, 1, 1, 1, 1, 0, 0, 0, 1, 1, 1, 1, 1,\n",
       "       1, 1, 0, 1, 1, 1, 1, 0, 0, 1, 0, 1, 1, 1, 1, 1, 1, 0, 1, 1, 0, 1,\n",
       "       1, 1, 1, 0, 1, 0, 1, 1, 0, 0, 1, 1, 1, 0, 1, 0, 1, 1, 1, 1, 1, 1,\n",
       "       1, 0, 0, 1, 0, 1, 1, 1, 1, 1, 1, 1, 1, 1, 0, 0, 1, 0, 1, 0, 1, 0,\n",
       "       0, 1, 0, 1, 1, 0, 1, 0, 1, 1, 1, 1, 1, 1], dtype=int64)"
      ]
     },
     "execution_count": 33,
     "metadata": {},
     "output_type": "execute_result"
    }
   ],
   "source": [
    "# prediction of this scaled model\n",
    "pred2=model2.predict(X_test_scaled)\n",
    "pred2"
   ]
  },
  {
   "cell_type": "code",
   "execution_count": 34,
   "metadata": {
    "colab": {
     "base_uri": "https://localhost:8080/"
    },
    "id": "96zbT_nuuWum",
    "outputId": "e10c7f2d-9368-453a-ffe3-5e8e6ec0e3bc"
   },
   "outputs": [
    {
     "data": {
      "text/plain": [
       "0.9936034115138592"
      ]
     },
     "execution_count": 34,
     "metadata": {},
     "output_type": "execute_result"
    }
   ],
   "source": [
    "#Testing model accuracy on scaled test data\n",
    "from sklearn.metrics import accuracy_score\n",
    "accuracy_score(Y_test,pred2)"
   ]
  },
  {
   "cell_type": "code",
   "execution_count": 35,
   "metadata": {},
   "outputs": [
    {
     "name": "stdout",
     "output_type": "stream",
     "text": [
      "Requirement already satisfied: xgboost in c:\\users\\pungaonkar\\anaconda3\\lib\\site-packages (2.0.2)\n",
      "Requirement already satisfied: numpy in c:\\users\\pungaonkar\\anaconda3\\lib\\site-packages (from xgboost) (1.21.5)\n",
      "Requirement already satisfied: scipy in c:\\users\\pungaonkar\\anaconda3\\lib\\site-packages (from xgboost) (1.9.1)\n"
     ]
    }
   ],
   "source": [
    "!pip install xgboost\n"
   ]
  },
  {
   "cell_type": "code",
   "execution_count": 36,
   "metadata": {
    "colab": {
     "base_uri": "https://localhost:8080/",
     "height": 248
    },
    "id": "RmvEYGwJuf-G",
    "outputId": "13334427-6bc4-49d8-c537-a4edb6c57931"
   },
   "outputs": [
    {
     "data": {
      "text/plain": [
       "XGBRegressor(base_score=None, booster=None, callbacks=None,\n",
       "             colsample_bylevel=None, colsample_bynode=None,\n",
       "             colsample_bytree=None, device=None, early_stopping_rounds=None,\n",
       "             enable_categorical=False, eval_metric=None, feature_types=None,\n",
       "             gamma=None, grow_policy=None, importance_type=None,\n",
       "             interaction_constraints=None, learning_rate=None, max_bin=None,\n",
       "             max_cat_threshold=None, max_cat_to_onehot=None,\n",
       "             max_delta_step=None, max_depth=None, max_leaves=None,\n",
       "             min_child_weight=None, missing=nan, monotone_constraints=None,\n",
       "             multi_strategy=None, n_estimators=None, n_jobs=None,\n",
       "             num_parallel_tree=None, random_state=None, ...)"
      ]
     },
     "execution_count": 36,
     "metadata": {},
     "output_type": "execute_result"
    }
   ],
   "source": [
    "#Fitting the XGBoost Regression model on X and Y\n",
    "import xgboost as xgb\n",
    "regressor2=xgb.XGBRegressor()\n",
    "regressor2.fit(X_train,Y_train)"
   ]
  },
  {
   "cell_type": "code",
   "execution_count": 37,
   "metadata": {
    "id": "jwIbrxgUSDGR"
   },
   "outputs": [],
   "source": [
    "predict2=regressor2.predict(X_test)"
   ]
  },
  {
   "cell_type": "code",
   "execution_count": 38,
   "metadata": {
    "colab": {
     "base_uri": "https://localhost:8080/"
    },
    "id": "pXAGIAy5Wac5",
    "outputId": "7f550f7d-7bb4-4257-864d-79fb85a0991e"
   },
   "outputs": [
    {
     "name": "stdout",
     "output_type": "stream",
     "text": [
      "R-squared: 0.9999999989523091\n"
     ]
    }
   ],
   "source": [
    "from sklearn.metrics import r2_score\n",
    "rscore2=r2_score(Y_test,predict2)\n",
    "print(\"R-squared:\",rscore2)"
   ]
  },
  {
   "cell_type": "code",
   "execution_count": 39,
   "metadata": {
    "colab": {
     "base_uri": "https://localhost:8080/",
     "height": 248
    },
    "id": "FVCPjJ3dWb9t",
    "outputId": "8aada2b5-b7bb-4826-da7c-e76f68ec3b82"
   },
   "outputs": [
    {
     "data": {
      "text/plain": [
       "XGBRegressor(base_score=None, booster=None, callbacks=None,\n",
       "             colsample_bylevel=None, colsample_bynode=None,\n",
       "             colsample_bytree=None, device=None, early_stopping_rounds=None,\n",
       "             enable_categorical=False, eval_metric=None, feature_types=None,\n",
       "             gamma=None, grow_policy=None, importance_type=None,\n",
       "             interaction_constraints=None, learning_rate=None, max_bin=None,\n",
       "             max_cat_threshold=None, max_cat_to_onehot=None,\n",
       "             max_delta_step=None, max_depth=None, max_leaves=None,\n",
       "             min_child_weight=None, missing=nan, monotone_constraints=None,\n",
       "             multi_strategy=None, n_estimators=None, n_jobs=None,\n",
       "             num_parallel_tree=None, random_state=None, ...)"
      ]
     },
     "execution_count": 39,
     "metadata": {},
     "output_type": "execute_result"
    }
   ],
   "source": [
    "#Fitting the XGBoost Regression scaled model on X and Y\n",
    "import xgboost as xgb\n",
    "regressor2=xgb.XGBRegressor()\n",
    "regressor2.fit(X_train_scaled,Y_train)"
   ]
  },
  {
   "cell_type": "code",
   "execution_count": 40,
   "metadata": {
    "id": "gitZQWW5W9fy"
   },
   "outputs": [],
   "source": [
    "predict2=regressor2.predict(X_test_scaled)"
   ]
  },
  {
   "cell_type": "code",
   "execution_count": 41,
   "metadata": {
    "colab": {
     "base_uri": "https://localhost:8080/"
    },
    "id": "s_TJ5UZxW9bB",
    "outputId": "d45d2e8b-f1de-43f9-dd92-90d4d8b74ea7"
   },
   "outputs": [
    {
     "name": "stdout",
     "output_type": "stream",
     "text": [
      "R-squared: 0.9999999989523091\n"
     ]
    }
   ],
   "source": [
    "from sklearn.metrics import r2_score\n",
    "rscore2=r2_score(Y_test,predict2)\n",
    "print(\"R-squared:\",rscore2)"
   ]
  },
  {
   "cell_type": "code",
   "execution_count": 42,
   "metadata": {
    "id": "-Mn-CFK2dOyn"
   },
   "outputs": [
    {
     "ename": "SyntaxError",
     "evalue": "invalid syntax (352265700.py, line 1)",
     "output_type": "error",
     "traceback": [
      "\u001b[1;36m  File \u001b[1;32m\"C:\\Users\\Pungaonkar\\AppData\\Local\\Temp\\ipykernel_9152\\352265700.py\"\u001b[1;36m, line \u001b[1;32m1\u001b[0m\n\u001b[1;33m    29.10\t9984.53\t-12.21\t377\u001b[0m\n\u001b[1;37m         \t^\u001b[0m\n\u001b[1;31mSyntaxError\u001b[0m\u001b[1;31m:\u001b[0m invalid syntax\n"
     ]
    }
   ],
   "source": [
    "29.10\t9984.53\t-12.21\t377"
   ]
  },
  {
   "cell_type": "code",
   "execution_count": 44,
   "metadata": {
    "colab": {
     "base_uri": "https://localhost:8080/"
    },
    "id": "Z4XrfJBKaOV8",
    "outputId": "cbb8b9e9-fd0e-4d13-bc7d-ea428b72daff"
   },
   "outputs": [
    {
     "name": "stdout",
     "output_type": "stream",
     "text": [
      "Enter the temprature:30.2\n",
      "Enter the Pressure9984.4\n",
      "Enter the altitude-12.2\n",
      "Enter the soil moisture177\n",
      "The class for given soil moisture 177.0 is [1]\n"
     ]
    },
    {
     "name": "stderr",
     "output_type": "stream",
     "text": [
      "C:\\Users\\Pungaonkar\\anaconda3\\lib\\site-packages\\sklearn\\base.py:450: UserWarning: X does not have valid feature names, but LogisticRegression was fitted with feature names\n",
      "  warnings.warn(\n"
     ]
    }
   ],
   "source": [
    "temp = float(input(\"Enter the temprature:\"))\n",
    "press = float(input(\"Enter the Pressure\"))\n",
    "alti = float(input(\"Enter the altitude\"))\n",
    "sm = float(input(\"Enter the soil moisture\"))\n",
    "\n",
    "new_data = [[temp, press, alti, sm]]\n",
    "\n",
    "\n",
    "prediction = model1.predict(new_data)\n",
    "\n",
    "\n",
    "predicted_class = prediction  # Assuming the result of the prediction is the class.\n",
    "\n",
    "print(f\"The class for given soil moisture {sm} is {predicted_class}\")"
   ]
  },
  {
   "cell_type": "code",
   "execution_count": 45,
   "metadata": {},
   "outputs": [],
   "source": [
    "import pickle\n",
    "with open('irrigation.pkl', 'wb') as model_file:\n",
    "    pickle.dump(model1, model_file)"
   ]
  },
  {
   "cell_type": "code",
   "execution_count": null,
   "metadata": {},
   "outputs": [],
   "source": []
  }
 ],
 "metadata": {
  "colab": {
   "provenance": []
  },
  "kernelspec": {
   "display_name": "Python 3 (ipykernel)",
   "language": "python",
   "name": "python3"
  },
  "language_info": {
   "codemirror_mode": {
    "name": "ipython",
    "version": 3
   },
   "file_extension": ".py",
   "mimetype": "text/x-python",
   "name": "python",
   "nbconvert_exporter": "python",
   "pygments_lexer": "ipython3",
   "version": "3.9.13"
  }
 },
 "nbformat": 4,
 "nbformat_minor": 1
}
